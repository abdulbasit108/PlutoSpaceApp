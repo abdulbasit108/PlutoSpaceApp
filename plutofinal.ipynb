{
 "cells": [
  {
   "cell_type": "markdown",
   "metadata": {},
   "source": [
    "Anamoly Detection for NASA Space App Challenge"
   ]
  },
  {
   "cell_type": "markdown",
   "metadata": {},
   "source": [
    "TEAM PLUTO"
   ]
  },
  {
   "cell_type": "code",
   "execution_count": 11,
   "metadata": {},
   "outputs": [
    {
     "name": "stdout",
     "output_type": "stream",
     "text": [
      "Our dataset contains 34891 examples with 6 features each!\n"
     ]
    }
   ],
   "source": [
    "import numpy as np\n",
    "\n",
    "file = open(\"FC.csv\")\n",
    "data = np.loadtxt(file, delimiter=\",\")\n",
    "r, c = data.shape\n",
    "print(\"Our dataset contains\",r,\"examples with\",c,\"features each!\")"
   ]
  },
  {
   "cell_type": "markdown",
   "metadata": {},
   "source": [
    "Estimating parameters for a Gaussian:\n",
    "\n",
    "To estimate the mean, you will\n",
    "use:\n",
    "\n",
    "$$\\mu_i = \\frac{1}{m} \\sum_{j=1}^m x_i^{(j)}$$\n",
    "\n",
    "and for the variance you will use:\n",
    "$$\\sigma_i^2 = \\frac{1}{m} \\sum_{j=1}^m (x_i^{(j)} - \\mu_i)^2$$"
   ]
  },
  {
   "cell_type": "code",
   "execution_count": 3,
   "metadata": {},
   "outputs": [],
   "source": [
    "def estimate_gaussian(X):\n",
    "    m, n = X.shape\n",
    "    mu = np.zeros(n)\n",
    "    var = np.zeros(n)\n",
    "    for i in range(n):\n",
    "        for j in range(m):\n",
    "            mu[i] = mu[i] + X[j][i]\n",
    "        mu[i] = mu[i]/m\n",
    "        \n",
    "        for k in range(m):\n",
    "            var[i]=var[i]+((X[k][i]-mu[i])**2)\n",
    "        var[i] = var[i]/m\n",
    "        \n",
    "    return mu, var"
   ]
  },
  {
   "cell_type": "markdown",
   "metadata": {},
   "source": [
    "Gaussian Distribution:\n",
    "\n",
    "Gaussian distribution is given by\n",
    "\n",
    "   $$ p(x ; \\mu,\\sigma ^2) = \\frac{1}{\\sqrt{2 \\pi \\sigma ^2}}\\exp^{ - \\frac{(x - \\mu)^2}{2 \\sigma ^2} }$$\n",
    "\n",
    "   where $\\mu$ is the mean and $\\sigma^2$ controls the variance.\n",
    "   \n",
    "\n"
   ]
  },
  {
   "cell_type": "code",
   "execution_count": 4,
   "metadata": {},
   "outputs": [],
   "source": [
    "def multivariate_gaussian(X, mu, var):\n",
    "    k = len(mu)\n",
    "    \n",
    "    if var.ndim == 1:\n",
    "        var = np.diag(var)\n",
    "        \n",
    "    X = X - mu\n",
    "    p = (2* np.pi)**(-k/2) * np.linalg.det(var)**(-0.5) * \\\n",
    "        np.exp(-0.5 * np.sum(np.matmul(X, np.linalg.pinv(var)) * X, axis=1))\n",
    "    \n",
    "    return p"
   ]
  },
  {
   "cell_type": "code",
   "execution_count": 5,
   "metadata": {},
   "outputs": [],
   "source": [
    "mu, var = estimate_gaussian(data)\n",
    "epsilon = 0.000000000000000002"
   ]
  },
  {
   "cell_type": "code",
   "execution_count": 6,
   "metadata": {},
   "outputs": [
    {
     "name": "stdout",
     "output_type": "stream",
     "text": [
      "WARNING! IT MIGHT BE AN ANOMALY\n"
     ]
    }
   ],
   "source": [
    "thermalspeed = float(input(\"Enter Solar Wind Thermal Speed (km/s): \"))\n",
    "winddensity = float(input(\"Enter Solar Wind Density (cc): \"))\n",
    "temperature = float(input(\"Enter Solar Wind Temperature (K): \"))\n",
    "xvelocity = float(input(\"Enter Solar Wind Velocity X-Component (km/s): \"))\n",
    "yvelocity = float(input(\"Enter Solar Wind Velocity Y-Component (km/s): \"))\n",
    "zvelocity = float(input(\"Enter Solar Wind Velocity Z-Component (km/s): \"))\n",
    "p = multivariate_gaussian([[thermalspeed,winddensity,temperature,xvelocity,yvelocity,zvelocity]],mu,var)\n",
    "if p<epsilon:\n",
    "    print(\"WARNING! IT MIGHT BE AN ANOMALY\")\n",
    "else:\n",
    "    print(\"DATA IS IN OPTIMAL RANGE\")"
   ]
  }
 ],
 "metadata": {
  "kernelspec": {
   "display_name": "Python 3.10.2 64-bit",
   "language": "python",
   "name": "python3"
  },
  "language_info": {
   "codemirror_mode": {
    "name": "ipython",
    "version": 3
   },
   "file_extension": ".py",
   "mimetype": "text/x-python",
   "name": "python",
   "nbconvert_exporter": "python",
   "pygments_lexer": "ipython3",
   "version": "3.10.2"
  },
  "orig_nbformat": 4,
  "vscode": {
   "interpreter": {
    "hash": "818384a7347362384a9ee986d0242007d90b99e3fdb0faab54f61e82a37b2598"
   }
  }
 },
 "nbformat": 4,
 "nbformat_minor": 2
}
